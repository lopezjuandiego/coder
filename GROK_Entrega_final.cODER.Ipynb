{
  "cells": [
    {
      "cell_type": "code",
      "execution_count": 2,
      "metadata": {
        "colab": {
          "base_uri": "https://localhost:8080/"
        },
        "id": "pD60SG23qQqL",
        "outputId": "2aa32ee9-9a36-45ac-942d-34a947ed8ed1"
      },
      "outputs": [
        {
          "name": "stdout",
          "output_type": "stream",
          "text": [
            "Collecting groq\n",
            "  Downloading groq-0.18.0-py3-none-any.whl.metadata (14 kB)\n",
            "Requirement already satisfied: anyio<5,>=3.5.0 in /usr/local/lib/python3.11/dist-packages (from groq) (3.7.1)\n",
            "Requirement already satisfied: distro<2,>=1.7.0 in /usr/local/lib/python3.11/dist-packages (from groq) (1.9.0)\n",
            "Requirement already satisfied: httpx<1,>=0.23.0 in /usr/local/lib/python3.11/dist-packages (from groq) (0.28.1)\n",
            "Requirement already satisfied: pydantic<3,>=1.9.0 in /usr/local/lib/python3.11/dist-packages (from groq) (2.10.6)\n",
            "Requirement already satisfied: sniffio in /usr/local/lib/python3.11/dist-packages (from groq) (1.3.1)\n",
            "Requirement already satisfied: typing-extensions<5,>=4.10 in /usr/local/lib/python3.11/dist-packages (from groq) (4.12.2)\n",
            "Requirement already satisfied: idna>=2.8 in /usr/local/lib/python3.11/dist-packages (from anyio<5,>=3.5.0->groq) (3.10)\n",
            "Requirement already satisfied: certifi in /usr/local/lib/python3.11/dist-packages (from httpx<1,>=0.23.0->groq) (2025.1.31)\n",
            "Requirement already satisfied: httpcore==1.* in /usr/local/lib/python3.11/dist-packages (from httpx<1,>=0.23.0->groq) (1.0.7)\n",
            "Requirement already satisfied: h11<0.15,>=0.13 in /usr/local/lib/python3.11/dist-packages (from httpcore==1.*->httpx<1,>=0.23.0->groq) (0.14.0)\n",
            "Requirement already satisfied: annotated-types>=0.6.0 in /usr/local/lib/python3.11/dist-packages (from pydantic<3,>=1.9.0->groq) (0.7.0)\n",
            "Requirement already satisfied: pydantic-core==2.27.2 in /usr/local/lib/python3.11/dist-packages (from pydantic<3,>=1.9.0->groq) (2.27.2)\n",
            "Downloading groq-0.18.0-py3-none-any.whl (121 kB)\n",
            "\u001b[2K   \u001b[90m━━━━━━━━━━━━━━━━━━━━━━━━━━━━━━━━━━━━━━━━\u001b[0m \u001b[32m121.9/121.9 kB\u001b[0m \u001b[31m3.0 MB/s\u001b[0m eta \u001b[36m0:00:00\u001b[0m\n",
            "\u001b[?25hInstalling collected packages: groq\n",
            "Successfully installed groq-0.18.0\n"
          ]
        }
      ],
      "source": [
        "pip install groq"
      ]
    },
    {
      "cell_type": "code",
      "execution_count": null,
      "metadata": {
        "colab": {
          "base_uri": "https://localhost:8080/"
        },
        "id": "EFYwOkQhq8sF",
        "outputId": "d90d4a90-c77b-4a31-9cfc-ec7c1f462cf7"
      },
      "outputs": [
        {
          "name": "stdout",
          "output_type": "stream",
          "text": [
            "Tema: Parque de Diversiones de la Productividad 🎠\n",
            "\n",
            "Descripción: El parque de diversiones de la productividad es un lugar donde el equipo puede disfrutar explorando los pasados sprints y encontrando formas innovadoras de mejorar. Cada miembro del equipo será un \"operador\" del parque, responsable de evaluar las \"atenzioni\" y las \"funcionalidades\" del parque.\n",
            "\n",
            "Preguntas:\n",
            "\n",
            "* ¿Qué área del parque fue tu favorita en el sprint pasado? ¿Qué te gustó y qué nos permitió aprender?\n",
            "* ¿Qué área del parque necesita una \"reparación\" o un \"refuerzo\"? ¿Qué podemos hacer para mejorar el funcionamiento?\n",
            "* ¿Hay algún área del parque que crees que falta? ¿Qué idea tienes para agregar una nueva atracción o área de juego?\n",
            "\n",
            "Actividad:\n",
            "\n",
            "1. Cada miembro del equipo debe dibujar una sección del parque, representando los elementos que creen que han funcionado bien o mal en el sprint pasado.\n",
            "2. Compartirán sus dibujos con el equipo y explicarán qué significan y cuáles son las lecciones aprendidas.\n",
            "3. El equipo discutirá y priorizará las \"reparaciones\" y \"refuerzos\" que se necesitan en el parque.\n",
            "4. A continuación, el equipo deberá seleccionar ideales para agregar nuevas \"atraciones\" o \"áreas de juego\" al parque, y asignar tareas para implementarlas en el próximo sprint.\n",
            "\n",
            "Conclusión:\n",
            "\n",
            "Al final de la retrospectiva, el equipo deberá hacer un tour por el parque de diversiones, revisando los logros y las oportunidades para mejorar. ¡Listo para inaugurar el próximo sprint y llevar al parque de diversiones a nuevos niveles de productividad y éxito! 🎉\n"
          ]
        }
      ],
      "source": [
        "from groq import Groq\n",
        "\n",
        "# Inicializar el cliente de Groq\n",
        "cliente = Groq(api_key=\"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\")\n",
        "\n",
        "def generar_retro(prompt):\n",
        "    try:\n",
        "        # Realizar la llamada a la API con el cliente Groq\n",
        "        response = cliente.chat.completions.create(\n",
        "            model=\"llama3-8b-8192\",\n",
        "            messages=[\n",
        "                {\"role\": \"system\", \"content\": \"Eres un Scrum Master experto en facilitar retrospectivas innovadoras para equipos ágiles.\"},\n",
        "                {\"role\": \"user\", \"content\": \"\"\"\n",
        "                Prompt A:\n",
        "                Sos un Scrum Master que busca hacer las retrospectivas más atractivas para tu equipo. Crea una dinámica basada en películas, deportes o viajes.\n",
        "                Ejemplo:\n",
        "                Tema: Viaje en el tiempo\n",
        "                Descripción: Cada miembro del equipo \"viajará\" al pasado sprint y al futuro sprint para identificar qué funcionó bien y qué mejorar.\n",
        "                Preguntas: Qué momento del sprint pasado cambiarías? Cómo imaginas que será nuestro próximo sprint si seguimos igual?\n",
        "\n",
        "                Responde con una nueva dinámica bajo la misma estructura.\n",
        "                \"\"\"},\n",
        "                {\"role\": \"assistant\", \"content\": \"\"\"\n",
        "                Tema: El Mundial del Sprint ⚽🏆\n",
        "                Descripción: El sprint es como un torneo de fútbol: cada tarea es un partido y el equipo trabaja para ganar el campeonato.\n",
        "                Preguntas: ¿Qué tarea del sprint pasado fue como un golazo? ¿Qué tarea fue un autogol y cómo la mejoraríamos?\n",
        "                \"\"\"},\n",
        "                {\"role\": \"user\", \"content\": prompt}\n",
        "            ]\n",
        "        )\n",
        "\n",
        "        # Acceder correctamente al contenido de la respuesta utilizando el atributo 'choices'\n",
        "        if response and hasattr(response, 'choices') and len(response.choices) > 0:\n",
        "            # Acceder a la respuesta de la primera elección de 'choices'\n",
        "            choice = response.choices[0]\n",
        "            if hasattr(choice, 'message') and hasattr(choice.message, 'content'):\n",
        "                return choice.message.content\n",
        "            else:\n",
        "                return \"No se encontró el contenido en la respuesta.\"\n",
        "        else:\n",
        "            return \"No se recibió una respuesta válida.\"\n",
        "\n",
        "    except Exception as e:\n",
        "        return f\"Error al generar la retrospectiva: {str(e)}\"\n",
        "\n",
        "# Ejemplo de uso:\n",
        "mi_prompt = \"Crea una retrospectiva con una analogía de un parque de diversiones.\"\n",
        "resultado = generar_retro(mi_prompt)\n",
        "print(resultado)\n"
      ]
    }
  ],
  "metadata": {
    "colab": {
      "provenance": []
    },
    "kernelspec": {
      "display_name": "Python 3",
      "name": "python3"
    },
    "language_info": {
      "name": "python"
    }
  },
  "nbformat": 4,
  "nbformat_minor": 0
}
